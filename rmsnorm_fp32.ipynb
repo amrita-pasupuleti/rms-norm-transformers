{
 "cells": [
  {
   "cell_type": "code",
   "execution_count": 2,
   "id": "f7c673d3",
   "metadata": {},
   "outputs": [
    {
     "name": "stderr",
     "output_type": "stream",
     "text": [
      "/home/akhilesh_hyphae/.local/lib/python3.12/site-packages/tqdm/auto.py:21: TqdmWarning: IProgress not found. Please update jupyter and ipywidgets. See https://ipywidgets.readthedocs.io/en/stable/user_install.html\n",
      "  from .autonotebook import tqdm as notebook_tqdm\n"
     ]
    }
   ],
   "source": [
    "import time\n",
    "import json\n",
    "import torch\n",
    "import torch.nn as nn\n",
    "from torch.utils.data import DataLoader\n",
    "from transformers import AutoModelForSequenceClassification, AutoTokenizer\n",
    "from datasets import load_dataset\n",
    "from torch.optim import AdamW\n",
    "from accelerate import Accelerator"
   ]
  },
  {
   "cell_type": "code",
   "execution_count": 3,
   "id": "372679ec",
   "metadata": {},
   "outputs": [],
   "source": [
    "class RMSNorm(nn.Module):\n",
    "    def __init__(self, dim, eps=1e-8):\n",
    "        super().__init__()\n",
    "        self.eps = eps\n",
    "        self.weight = nn.Parameter(torch.ones(dim))\n",
    "\n",
    "    def forward(self, x):\n",
    "        norm = x.norm(2, dim=-1, keepdim=True)\n",
    "        return x * self.weight / (norm / (x.shape[-1] ** 0.5) + self.eps)\n",
    "\n",
    "def replace_layernorm_with_rmsnorm(model):\n",
    "    for name, module in model.named_modules():\n",
    "        if isinstance(module, nn.LayerNorm):\n",
    "            parent_name = name.rsplit('.', 1)[0]\n",
    "            parent = dict(model.named_modules()).get(parent_name, model)\n",
    "            setattr(parent, name.split('.')[-1], RMSNorm(module.normalized_shape[0], eps=module.eps))\n"
   ]
  },
  {
   "cell_type": "code",
   "execution_count": 4,
   "id": "877a1715",
   "metadata": {},
   "outputs": [],
   "source": [
    "def prepare_dataset():\n",
    "    dataset = load_dataset(\"fancyzhx/dbpedia_14\")\n",
    "    tokenizer = AutoTokenizer.from_pretrained(\"distilbert-base-uncased\")\n",
    "\n",
    "    def tokenize(example):\n",
    "        return tokenizer(example[\"content\"], truncation=True, padding=\"max_length\", max_length=128)\n",
    "\n",
    "    encoded = dataset.map(tokenize, batched=True)\n",
    "    encoded.set_format(type=\"torch\", columns=[\"input_ids\", \"attention_mask\", \"label\"])\n",
    "\n",
    "    # Use larger samples and shuffle\n",
    "    train_dataset = encoded[\"train\"].shuffle(seed=42).select(range(5000))\n",
    "    test_dataset = encoded[\"test\"].shuffle(seed=42).select(range(1000))\n",
    "    return train_dataset, test_dataset"
   ]
  },
  {
   "cell_type": "code",
   "execution_count": 5,
   "id": "e0898f7b",
   "metadata": {},
   "outputs": [],
   "source": [
    "def train_epoch(model, loader, criterion, optimizer, device, accelerator):\n",
    "    model.train()\n",
    "    total_loss, correct, total = 0, 0, 0\n",
    "\n",
    "    for batch in loader:\n",
    "        input_ids, attention_mask, labels = [batch[k].to(device) for k in [\"input_ids\", \"attention_mask\", \"label\"]]\n",
    "        optimizer.zero_grad()\n",
    "        output = model(input_ids=input_ids, attention_mask=attention_mask)\n",
    "        loss = criterion(output.logits, labels)\n",
    "        accelerator.backward(loss)\n",
    "        optimizer.step()\n",
    "\n",
    "        total_loss += loss.item()\n",
    "        correct += (output.logits.argmax(1) == labels).sum().item()\n",
    "        total += labels.size(0)\n",
    "\n",
    "    return total_loss / len(loader), correct / total"
   ]
  },
  {
   "cell_type": "code",
   "execution_count": 6,
   "id": "1492669c",
   "metadata": {},
   "outputs": [],
   "source": [
    "def evaluate(model, loader, device):\n",
    "    model.eval()\n",
    "    correct, total = 0, 0\n",
    "    start = time.time()\n",
    "    with torch.no_grad():\n",
    "        for batch in loader:\n",
    "            input_ids, attention_mask, labels = [batch[k].to(device) for k in [\"input_ids\", \"attention_mask\", \"label\"]]\n",
    "            output = model(input_ids=input_ids, attention_mask=attention_mask)\n",
    "            preds = output.logits.argmax(1)\n",
    "            correct += (preds == labels).sum().item()\n",
    "            total += labels.size(0)\n",
    "    return correct / total, time.time() - start"
   ]
  },
  {
   "cell_type": "code",
   "execution_count": 7,
   "id": "ba20cacd",
   "metadata": {},
   "outputs": [
    {
     "name": "stderr",
     "output_type": "stream",
     "text": [
      "Some weights of DistilBertForSequenceClassification were not initialized from the model checkpoint at distilbert-base-uncased and are newly initialized: ['classifier.bias', 'classifier.weight', 'pre_classifier.bias', 'pre_classifier.weight']\n",
      "You should probably TRAIN this model on a down-stream task to be able to use it for predictions and inference.\n"
     ]
    },
    {
     "name": "stdout",
     "output_type": "stream",
     "text": [
      "Epoch 1: loss = 1.5328, acc = 0.5396\n",
      "Epoch 2: loss = 0.3624, acc = 0.8990\n",
      "Epoch 3: loss = 0.1916, acc = 0.9482\n",
      "Epoch 4: loss = 0.1327, acc = 0.9664\n",
      "Epoch 5: loss = 0.0965, acc = 0.9740\n",
      "Epoch 6: loss = 0.0713, acc = 0.9826\n",
      "Epoch 7: loss = 0.0653, acc = 0.9844\n",
      "Epoch 8: loss = 0.0418, acc = 0.9888\n",
      "Epoch 9: loss = 0.0440, acc = 0.9884\n",
      "Epoch 10: loss = 0.0429, acc = 0.9872\n",
      "{\n",
      "  \"precision\": \"fp32\",\n",
      "  \"epoch_loss\": [\n",
      "    1.5327955370132154,\n",
      "    0.36239254404418764,\n",
      "    0.19162875700730103,\n",
      "    0.1326774451881647,\n",
      "    0.09648685669377684,\n",
      "    0.07127487193197964,\n",
      "    0.0652607646131049,\n",
      "    0.041811679583637955,\n",
      "    0.04395978523198123,\n",
      "    0.04289166803751438\n",
      "  ],\n",
      "  \"epoch_acc\": [\n",
      "    0.5396,\n",
      "    0.899,\n",
      "    0.9482,\n",
      "    0.9664,\n",
      "    0.974,\n",
      "    0.9826,\n",
      "    0.9844,\n",
      "    0.9888,\n",
      "    0.9884,\n",
      "    0.9872\n",
      "  ],\n",
      "  \"train_time\": 19923.919310331345,\n",
      "  \"train_mem\": 0.0,\n",
      "  \"test_acc\": 0.97,\n",
      "  \"test_time\": 51.839858531951904\n",
      "}\n"
     ]
    }
   ],
   "source": [
    "precision = \"fp32\"\n",
    "train_data, test_data = prepare_dataset()\n",
    "\n",
    "model = AutoModelForSequenceClassification.from_pretrained(\"distilbert-base-uncased\", num_labels=14)\n",
    "replace_layernorm_with_rmsnorm(model)\n",
    "\n",
    "accelerator = Accelerator(mixed_precision=\"no\")\n",
    "optimizer = AdamW(model.parameters(), lr=1e-5)  # lowered to avoid overfitting\n",
    "criterion = nn.CrossEntropyLoss()\n",
    "\n",
    "train_loader = DataLoader(train_data, batch_size=16, shuffle=True)\n",
    "test_loader = DataLoader(test_data, batch_size=16)\n",
    "\n",
    "model, optimizer, train_loader = accelerator.prepare(model, optimizer, train_loader)\n",
    "test_loader = accelerator.prepare(test_loader)\n",
    "\n",
    "NUM_EPOCHS = 10\n",
    "epoch_losses = []\n",
    "epoch_accuracies = []\n",
    "start_time = time.time()\n",
    "\n",
    "for epoch in range(NUM_EPOCHS):\n",
    "    train_loss, train_acc = train_epoch(model, train_loader, criterion, optimizer, accelerator.device, accelerator)\n",
    "    epoch_losses.append(train_loss)\n",
    "    epoch_accuracies.append(train_acc)\n",
    "    print(f\"Epoch {epoch+1}: loss = {train_loss:.4f}, acc = {train_acc:.4f}\")\n",
    "\n",
    "train_time = time.time() - start_time\n",
    "train_mem = torch.cuda.max_memory_allocated() / 1e6\n",
    "\n",
    "test_acc, test_time = evaluate(model, test_loader, accelerator.device)\n",
    "\n",
    "result = {\n",
    "    \"precision\": precision,\n",
    "    \"epoch_loss\": epoch_losses,\n",
    "    \"epoch_acc\": epoch_accuracies,\n",
    "    \"train_time\": train_time,\n",
    "    \"train_mem\": train_mem,\n",
    "    \"test_acc\": test_acc,\n",
    "    \"test_time\": test_time\n",
    "}\n",
    "\n",
    "with open(\"results_fp32.json\", \"w\") as f:\n",
    "    json.dump(result, f, indent=2)\n",
    "\n",
    "print(json.dumps(result, indent=2))\n"
   ]
  },
  {
   "cell_type": "code",
   "execution_count": null,
   "id": "e3daa638",
   "metadata": {},
   "outputs": [],
   "source": []
  }
 ],
 "metadata": {
  "kernelspec": {
   "display_name": "Python 3",
   "language": "python",
   "name": "python3"
  },
  "language_info": {
   "codemirror_mode": {
    "name": "ipython",
    "version": 3
   },
   "file_extension": ".py",
   "mimetype": "text/x-python",
   "name": "python",
   "nbconvert_exporter": "python",
   "pygments_lexer": "ipython3",
   "version": "3.10.12"
  }
 },
 "nbformat": 4,
 "nbformat_minor": 5
}
