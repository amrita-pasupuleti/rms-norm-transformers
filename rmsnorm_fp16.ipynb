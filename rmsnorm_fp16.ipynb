{
 "cells": [
  {
   "cell_type": "code",
   "execution_count": 7,
   "id": "a79a6b06",
   "metadata": {},
   "outputs": [],
   "source": [
    "import time\n",
    "import json\n",
    "import torch\n",
    "import torch.nn as nn\n",
    "from torch.utils.data import DataLoader\n",
    "from transformers import AutoModelForSequenceClassification, AutoTokenizer\n",
    "from datasets import load_dataset\n",
    "from torch.optim import AdamW\n",
    "from accelerate import Accelerator"
   ]
  },
  {
   "cell_type": "code",
   "execution_count": 8,
   "id": "bea0e799",
   "metadata": {},
   "outputs": [],
   "source": [
    "class RMSNorm(nn.Module):\n",
    "    def __init__(self, dim, eps=1e-8):\n",
    "        super().__init__()\n",
    "        self.eps = eps\n",
    "        self.weight = nn.Parameter(torch.ones(dim))\n",
    "\n",
    "    def forward(self, x):\n",
    "        norm = x.norm(2, dim=-1, keepdim=True)\n",
    "        return x * self.weight / (norm / (x.shape[-1] ** 0.5) + self.eps)\n",
    "\n",
    "def replace_layernorm_with_rmsnorm(model):\n",
    "    for name, module in model.named_modules():\n",
    "        if isinstance(module, nn.LayerNorm):\n",
    "            parent_name = name.rsplit('.', 1)[0]\n",
    "            parent = dict(model.named_modules()).get(parent_name, model)\n",
    "            setattr(parent, name.split('.')[-1], RMSNorm(module.normalized_shape[0], eps=module.eps))\n"
   ]
  },
  {
   "cell_type": "code",
   "execution_count": 9,
   "id": "01c4b006",
   "metadata": {},
   "outputs": [],
   "source": [
    "def prepare_dataset():\n",
    "    dataset = load_dataset(\"fancyzhx/dbpedia_14\")\n",
    "    tokenizer = AutoTokenizer.from_pretrained(\"distilbert-base-uncased\")\n",
    "\n",
    "    def tokenize(example):\n",
    "        return tokenizer(example[\"content\"], truncation=True, padding=\"max_length\", max_length=128)\n",
    "\n",
    "    encoded = dataset.map(tokenize, batched=True)\n",
    "    encoded.set_format(type=\"torch\", columns=[\"input_ids\", \"attention_mask\", \"label\"])\n",
    "\n",
    "    train_dataset = encoded[\"train\"].shuffle(seed=42).select(range(5000))\n",
    "    test_dataset = encoded[\"test\"].shuffle(seed=42).select(range(1000))\n",
    "    return train_dataset, test_dataset\n",
    "\n"
   ]
  },
  {
   "cell_type": "code",
   "execution_count": 10,
   "id": "c43bc02e",
   "metadata": {},
   "outputs": [],
   "source": [
    "def train_epoch(model, loader, criterion, optimizer, device, accelerator):\n",
    "    model.train()\n",
    "    total_loss, correct, total = 0, 0, 0\n",
    "    for batch in loader:\n",
    "        input_ids, attention_mask, labels = [batch[k].to(device) for k in [\"input_ids\", \"attention_mask\", \"label\"]]\n",
    "        optimizer.zero_grad()\n",
    "        output = model(input_ids=input_ids, attention_mask=attention_mask)\n",
    "        loss = criterion(output.logits, labels)\n",
    "        accelerator.backward(loss)\n",
    "        optimizer.step()\n",
    "        total_loss += loss.item()\n",
    "        correct += (output.logits.argmax(1) == labels).sum().item()\n",
    "        total += labels.size(0)\n",
    "    return total_loss / len(loader), correct / total"
   ]
  },
  {
   "cell_type": "code",
   "execution_count": 11,
   "id": "1643b8e0",
   "metadata": {},
   "outputs": [],
   "source": [
    "def evaluate(model, loader, device):\n",
    "    model.eval()\n",
    "    correct, total = 0, 0\n",
    "    start = time.time()\n",
    "    with torch.no_grad():\n",
    "        for batch in loader:\n",
    "            input_ids, attention_mask, labels = [batch[k].to(device) for k in [\"input_ids\", \"attention_mask\", \"label\"]]\n",
    "            output = model(input_ids=input_ids, attention_mask=attention_mask)\n",
    "            preds = output.logits.argmax(1)\n",
    "            correct += (preds == labels).sum().item()\n",
    "            total += labels.size(0)\n",
    "    return correct / total, time.time() - start"
   ]
  },
  {
   "cell_type": "code",
   "execution_count": 13,
   "id": "f684cc76",
   "metadata": {},
   "outputs": [],
   "source": [
    "def extract_cls_embeddings(model, loader, device, limit=500):\n",
    "    model.eval()\n",
    "    embeddings = []\n",
    "    with torch.no_grad():\n",
    "        for batch in loader:\n",
    "            input_ids = batch[\"input_ids\"].to(device)\n",
    "            attention_mask = batch[\"attention_mask\"].to(device)\n",
    "            output = model.distilbert(input_ids=input_ids, attention_mask=attention_mask).last_hidden_state\n",
    "            cls_vec = output[:, 0, :]  # CLS token: first token\n",
    "            embeddings.append(cls_vec)\n",
    "            if len(embeddings) * cls_vec.size(0) >= limit:\n",
    "                break\n",
    "    return torch.cat(embeddings, dim=0)[:limit]\n"
   ]
  },
  {
   "cell_type": "code",
   "execution_count": 14,
   "id": "4102ad9d",
   "metadata": {},
   "outputs": [],
   "source": [
    "def compare_and_plot(baseline_vecs, fp16_vecs):\n",
    "    from torch.nn.functional import cosine_similarity\n",
    "    import matplotlib.pyplot as plt\n",
    "\n",
    "    cos_sim = cosine_similarity(baseline_vecs, fp16_vecs, dim=1)\n",
    "    l2_dist = (baseline_vecs - fp16_vecs).norm(p=2, dim=1)\n",
    "\n",
    "    plt.figure(figsize=(12, 5))\n",
    "    plt.subplot(1, 2, 1)\n",
    "    plt.hist(cos_sim.cpu().numpy(), bins=50, color='blue')\n",
    "    plt.title(\"Cosine Similarity (Baseline vs FP16 RMSNorm)\")\n",
    "    plt.xlabel(\"Similarity\"); plt.ylabel(\"Count\")\n",
    "\n",
    "    plt.subplot(1, 2, 2)\n",
    "    plt.hist(l2_dist.cpu().numpy(), bins=50, color='red')\n",
    "    plt.title(\"L2 Distance (Baseline vs FP16 RMSNorm)\")\n",
    "    plt.xlabel(\"Distance\"); plt.ylabel(\"Count\")\n",
    "    plt.tight_layout()\n",
    "    plt.show()\n"
   ]
  },
  {
   "cell_type": "code",
   "execution_count": 12,
   "id": "d146915f",
   "metadata": {},
   "outputs": [
    {
     "name": "stderr",
     "output_type": "stream",
     "text": [
      "Generating train split: 100%|██████████| 560000/560000 [00:00<00:00, 564847.86 examples/s]\n",
      "Generating test split: 100%|██████████| 70000/70000 [00:00<00:00, 655750.82 examples/s]\n",
      "Map: 100%|██████████| 560000/560000 [00:55<00:00, 10108.75 examples/s]\n",
      "Map: 100%|██████████| 70000/70000 [00:06<00:00, 10926.78 examples/s]\n",
      "Xet Storage is enabled for this repo, but the 'hf_xet' package is not installed. Falling back to regular HTTP download. For better performance, install the package with: `pip install huggingface_hub[hf_xet]` or `pip install hf_xet`\n",
      "Some weights of DistilBertForSequenceClassification were not initialized from the model checkpoint at distilbert-base-uncased and are newly initialized: ['classifier.bias', 'classifier.weight', 'pre_classifier.bias', 'pre_classifier.weight']\n",
      "You should probably TRAIN this model on a down-stream task to be able to use it for predictions and inference.\n"
     ]
    },
    {
     "name": "stdout",
     "output_type": "stream",
     "text": [
      "Epoch 1: loss = 1.3695, acc = 0.6142\n",
      "Epoch 2: loss = 0.3195, acc = 0.9134\n",
      "Epoch 3: loss = 0.1787, acc = 0.9522\n",
      "Epoch 4: loss = 0.1304, acc = 0.9650\n",
      "Epoch 5: loss = 0.0804, acc = 0.9800\n",
      "Epoch 6: loss = 0.0709, acc = 0.9808\n",
      "Epoch 7: loss = 0.0550, acc = 0.9868\n",
      "Epoch 8: loss = 0.0410, acc = 0.9888\n",
      "Epoch 9: loss = 0.0349, acc = 0.9900\n",
      "Epoch 10: loss = 0.0333, acc = 0.9914\n",
      "{\n",
      "  \"precision\": \"fp16\",\n",
      "  \"epoch_loss\": [\n",
      "    1.3695249313744493,\n",
      "    0.319537323337203,\n",
      "    0.1786504874285608,\n",
      "    0.130377870773117,\n",
      "    0.0804356687818282,\n",
      "    0.0708730690829908,\n",
      "    0.05500384124543387,\n",
      "    0.040986854846354205,\n",
      "    0.034859879524818956,\n",
      "    0.0332666346260284\n",
      "  ],\n",
      "  \"epoch_acc\": [\n",
      "    0.6142,\n",
      "    0.9134,\n",
      "    0.9522,\n",
      "    0.965,\n",
      "    0.98,\n",
      "    0.9808,\n",
      "    0.9868,\n",
      "    0.9888,\n",
      "    0.99,\n",
      "    0.9914\n",
      "  ],\n",
      "  \"train_time\": 211.4695782661438,\n",
      "  \"train_mem\": 1461.000192,\n",
      "  \"test_acc\": 0.963,\n",
      "  \"test_time\": 1.1926441192626953\n",
      "}\n"
     ]
    }
   ],
   "source": [
    "precision = \"fp16\"\n",
    "train_data, test_data = prepare_dataset()\n",
    "model = AutoModelForSequenceClassification.from_pretrained(\"distilbert-base-uncased\", num_labels=14)\n",
    "replace_layernorm_with_rmsnorm(model)\n",
    "accelerator = Accelerator(mixed_precision=\"fp16\")\n",
    "optimizer = AdamW(model.parameters(), lr=1e-5)\n",
    "criterion = nn.CrossEntropyLoss()\n",
    "train_loader = DataLoader(train_data, batch_size=16, shuffle=True)\n",
    "test_loader = DataLoader(test_data, batch_size=16)\n",
    "model, optimizer, train_loader = accelerator.prepare(model, optimizer, train_loader)\n",
    "test_loader = accelerator.prepare(test_loader)\n",
    "NUM_EPOCHS = 10\n",
    "epoch_losses = []\n",
    "epoch_accuracies = []\n",
    "start_time = time.time()\n",
    "for epoch in range(NUM_EPOCHS):\n",
    "    train_loss, train_acc = train_epoch(model, train_loader, criterion, optimizer, accelerator.device, accelerator)\n",
    "    epoch_losses.append(train_loss)\n",
    "    epoch_accuracies.append(train_acc)\n",
    "    print(f\"Epoch {epoch+1}: loss = {train_loss:.4f}, acc = {train_acc:.4f}\")\n",
    "train_time = time.time() - start_time\n",
    "train_mem = torch.cuda.max_memory_allocated() / 1e6\n",
    "test_acc, test_time = evaluate(model, test_loader, accelerator.device)\n",
    "result = {\n",
    "    \"precision\": precision,\n",
    "    \"epoch_loss\": epoch_losses,\n",
    "    \"epoch_acc\": epoch_accuracies,\n",
    "    \"train_time\": train_time,\n",
    "    \"train_mem\": train_mem,\n",
    "    \"test_acc\": test_acc,\n",
    "    \"test_time\": test_time\n",
    "}\n",
    "with open(\"results_fp16.json\", \"w\") as f:\n",
    "    json.dump(result, f, indent=2)\n",
    "print(json.dumps(result, indent=2))\n"
   ]
  },
  {
   "cell_type": "code",
   "execution_count": 15,
   "id": "dbdc1fe1",
   "metadata": {},
   "outputs": [
    {
     "name": "stderr",
     "output_type": "stream",
     "text": [
      "Some weights of DistilBertForSequenceClassification were not initialized from the model checkpoint at distilbert-base-uncased and are newly initialized: ['classifier.bias', 'classifier.weight', 'pre_classifier.bias', 'pre_classifier.weight']\n",
      "You should probably TRAIN this model on a down-stream task to be able to use it for predictions and inference.\n"
     ]
    },
    {
     "data": {
      "image/png": "[encoded data removed]",
      "text/plain": [
       "<Figure size 1200x500 with 2 Axes>"
      ]
     },
     "metadata": {},
     "output_type": "display_data"
    }
   ],
   "source": [
    "# Load baseline model (with LayerNorm)\n",
    "baseline = AutoModelForSequenceClassification.from_pretrained(\"distilbert-base-uncased\", num_labels=14).to(\"cuda\").eval()\n",
    "\n",
    "# Prepare test_loader without accelerator\n",
    "test_loader_cpu = DataLoader(test_data, batch_size=16)\n",
    "\n",
    "# Extract vectors\n",
    "baseline_vecs = extract_cls_embeddings(baseline, test_loader_cpu, device=\"cuda\")\n",
    "fp16_vecs     = extract_cls_embeddings(model, test_loader, device=accelerator.device)\n",
    "\n",
    "# Plot\n",
    "compare_and_plot(baseline_vecs, fp16_vecs)\n"
   ]
  },
  {
   "cell_type": "code",
   "execution_count": null,
   "id": "6293bed2",
   "metadata": {},
   "outputs": [],
   "source": []
  }
 ],
 "metadata": {
  "kernelspec": {
   "display_name": "Python 3",
   "language": "python",
   "name": "python3"
  },
  "language_info": {
   "codemirror_mode": {
    "name": "ipython",
    "version": 3
   },
   "file_extension": ".py",
   "mimetype": "text/x-python",
   "name": "python",
   "nbconvert_exporter": "python",
   "pygments_lexer": "ipython3",
   "version": "3.12.3"
  }
 },
 "nbformat": 4,
 "nbformat_minor": 5
}
