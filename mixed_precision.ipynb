{
 "cells": [
  {
   "cell_type": "code",
   "execution_count": 3,
   "id": "92036e5a",
   "metadata": {},
   "outputs": [],
   "source": [
    "import time\n",
    "import json\n",
    "import torch\n",
    "import torch.nn as nn\n",
    "from torch.utils.data import DataLoader\n",
    "from transformers import AutoModelForSequenceClassification, AutoTokenizer\n",
    "from datasets import load_dataset\n",
    "from torch.optim import AdamW\n",
    "from accelerate import Accelerator"
   ]
  },
  {
   "cell_type": "code",
   "execution_count": 4,
   "id": "d0d1f8ef",
   "metadata": {},
   "outputs": [],
   "source": [
    "class RMSNorm(nn.Module):\n",
    "    def __init__(self, dim, eps=1e-8):\n",
    "        super().__init__()\n",
    "        self.eps = eps\n",
    "        self.weight = nn.Parameter(torch.ones(dim))\n",
    "\n",
    "    def forward(self, x):\n",
    "        norm = x.norm(2, dim=-1, keepdim=True)\n",
    "        return x * self.weight / (norm / (x.shape[-1] ** 0.5) + self.eps)\n",
    "\n",
    "def replace_layernorm_with_rmsnorm(model):\n",
    "    for name, module in model.named_modules():\n",
    "        if isinstance(module, nn.LayerNorm):\n",
    "            parent_name = name.rsplit('.', 1)[0]\n",
    "            parent = dict(model.named_modules()).get(parent_name, model)\n",
    "            setattr(parent, name.split('.')[-1], RMSNorm(module.normalized_shape[0], eps=module.eps))\n"
   ]
  },
  {
   "cell_type": "code",
   "execution_count": 5,
   "id": "4885b9a6",
   "metadata": {},
   "outputs": [],
   "source": [
    "def prepare_dataset():\n",
    "    dataset = load_dataset(\"fancyzhx/dbpedia_14\")\n",
    "    tokenizer = AutoTokenizer.from_pretrained(\"distilbert-base-uncased\")\n",
    "\n",
    "    def tokenize(example):\n",
    "        return tokenizer(example[\"content\"], truncation=True, padding=\"max_length\", max_length=128)\n",
    "\n",
    "    encoded = dataset.map(tokenize, batched=True)\n",
    "    encoded.set_format(type=\"torch\", columns=[\"input_ids\", \"attention_mask\", \"label\"])\n",
    "\n",
    "    train_dataset = encoded[\"train\"].shuffle(seed=42).select(range(5000))\n",
    "    test_dataset = encoded[\"test\"].shuffle(seed=42).select(range(1000))\n",
    "    return train_dataset, test_dataset\n"
   ]
  },
  {
   "cell_type": "code",
   "execution_count": 6,
   "id": "d2235444",
   "metadata": {},
   "outputs": [],
   "source": [
    "def train_epoch(model, loader, criterion, optimizer, device, accelerator):\n",
    "    model.train()\n",
    "    total_loss, correct, total = 0, 0, 0\n",
    "\n",
    "    for batch in loader:\n",
    "        input_ids, attention_mask, labels = [batch[k].to(device) for k in [\"input_ids\", \"attention_mask\", \"label\"]]\n",
    "        optimizer.zero_grad()\n",
    "\n",
    "        with accelerator.autocast():  # Enables mixed precision\n",
    "            output = model(input_ids=input_ids, attention_mask=attention_mask)\n",
    "            loss = criterion(output.logits, labels)\n",
    "\n",
    "        accelerator.backward(loss)\n",
    "        optimizer.step()\n",
    "\n",
    "        total_loss += loss.item()\n",
    "        correct += (output.logits.argmax(1) == labels).sum().item()\n",
    "        total += labels.size(0)\n",
    "\n",
    "    return total_loss / len(loader), correct / total"
   ]
  },
  {
   "cell_type": "code",
   "execution_count": 7,
   "id": "cfd09b1d",
   "metadata": {},
   "outputs": [],
   "source": [
    "def evaluate(model, loader, device):\n",
    "    model.eval()\n",
    "    correct, total = 0, 0\n",
    "    start = time.time()\n",
    "\n",
    "    with torch.no_grad():\n",
    "        for batch in loader:\n",
    "            input_ids, attention_mask, labels = [batch[k].to(device) for k in [\"input_ids\", \"attention_mask\", \"label\"]]\n",
    "            with torch.autocast(device_type=device.type, dtype=torch.float16):\n",
    "                output = model(input_ids=input_ids, attention_mask=attention_mask)\n",
    "            correct += (output.logits.argmax(1) == labels).sum().item()\n",
    "            total += labels.size(0)\n",
    "\n",
    "    return correct / total, time.time() - start"
   ]
  },
  {
   "cell_type": "code",
   "execution_count": null,
   "id": "00bbad93",
   "metadata": {},
   "outputs": [
    {
     "name": "stderr",
     "output_type": "stream",
     "text": [
      "Generating train split: 100%|██████████| 560000/560000 [00:00<00:00, 1712791.00 examples/s]\n",
      "Generating test split: 100%|██████████| 70000/70000 [00:00<00:00, 1890567.04 examples/s]\n",
      "Map: 100%|██████████| 560000/560000 [00:33<00:00, 16565.10 examples/s]\n",
      "Map: 100%|██████████| 70000/70000 [00:04<00:00, 17079.43 examples/s]\n",
      "Xet Storage is enabled for this repo, but the 'hf_xet' package is not installed. Falling back to regular HTTP download. For better performance, install the package with: `pip install huggingface_hub[hf_xet]` or `pip install hf_xet`\n",
      "Some weights of DistilBertForSequenceClassification were not initialized from the model checkpoint at distilbert-base-uncased and are newly initialized: ['classifier.bias', 'classifier.weight', 'pre_classifier.bias', 'pre_classifier.weight']\n",
      "You should probably TRAIN this model on a down-stream task to be able to use it for predictions and inference.\n"
     ]
    }
   ],
   "source": [
    "precision = \"fp16\"\n",
    "train_data, test_data = prepare_dataset()\n",
    "\n",
    "model = AutoModelForSequenceClassification.from_pretrained(\"distilbert-base-uncased\", num_labels=14)\n",
    "replace_layernorm_with_rmsnorm(model)\n",
    "\n",
    "accelerator = Accelerator(mixed_precision=precision)\n",
    "optimizer = AdamW(model.parameters(), lr=1e-5)\n",
    "criterion = nn.CrossEntropyLoss()\n",
    "\n",
    "train_loader = DataLoader(train_data, batch_size=16, shuffle=True)\n",
    "test_loader = DataLoader(test_data, batch_size=16)\n",
    "\n",
    "model, optimizer, train_loader = accelerator.prepare(model, optimizer, train_loader)\n",
    "test_loader = accelerator.prepare(test_loader)"
   ]
  },
  {
   "cell_type": "code",
   "execution_count": 9,
   "id": "694ce706",
   "metadata": {},
   "outputs": [],
   "source": [
    "NUM_EPOCHS = 10\n",
    "epoch_losses = []\n",
    "epoch_accuracies = []\n",
    "start_time = time.time()"
   ]
  },
  {
   "cell_type": "code",
   "execution_count": 10,
   "id": "46be92da",
   "metadata": {},
   "outputs": [
    {
     "name": "stdout",
     "output_type": "stream",
     "text": [
      "Epoch 1: loss = 1.4017, acc = 0.5904\n",
      "Epoch 2: loss = 0.3315, acc = 0.9142\n",
      "Epoch 3: loss = 0.1891, acc = 0.9482\n",
      "Epoch 4: loss = 0.1312, acc = 0.9638\n",
      "Epoch 5: loss = 0.0944, acc = 0.9766\n",
      "Epoch 6: loss = 0.0775, acc = 0.9786\n",
      "Epoch 7: loss = 0.0510, acc = 0.9872\n",
      "Epoch 8: loss = 0.0448, acc = 0.9892\n",
      "Epoch 9: loss = 0.0446, acc = 0.9872\n",
      "Epoch 10: loss = 0.0289, acc = 0.9948\n"
     ]
    }
   ],
   "source": [
    "for epoch in range(NUM_EPOCHS):\n",
    "    train_loss, train_acc = train_epoch(model, train_loader, criterion, optimizer, accelerator.device, accelerator)\n",
    "    epoch_losses.append(train_loss)\n",
    "    epoch_accuracies.append(train_acc)\n",
    "    print(f\"Epoch {epoch+1}: loss = {train_loss:.4f}, acc = {train_acc:.4f}\")\n",
    "\n",
    "train_time = time.time() - start_time\n",
    "train_mem = torch.cuda.max_memory_allocated() / 1e6\n",
    "\n",
    "test_acc, test_time = evaluate(model, test_loader, accelerator.device)"
   ]
  },
  {
   "cell_type": "code",
   "execution_count": 11,
   "id": "e41f8624",
   "metadata": {},
   "outputs": [
    {
     "name": "stdout",
     "output_type": "stream",
     "text": [
      "{\n",
      "  \"precision\": \"fp16\",\n",
      "  \"epoch_loss\": [\n",
      "    1.40165920741261,\n",
      "    0.33154501883795084,\n",
      "    0.18909203390867566,\n",
      "    0.13119684636426238,\n",
      "    0.09436189014309893,\n",
      "    0.07745544823071066,\n",
      "    0.05103705125227095,\n",
      "    0.044824234092423615,\n",
      "    0.04464695333226468,\n",
      "    0.028923542150251638\n",
      "  ],\n",
      "  \"epoch_acc\": [\n",
      "    0.5904,\n",
      "    0.9142,\n",
      "    0.9482,\n",
      "    0.9638,\n",
      "    0.9766,\n",
      "    0.9786,\n",
      "    0.9872,\n",
      "    0.9892,\n",
      "    0.9872,\n",
      "    0.9948\n",
      "  ],\n",
      "  \"train_time\": 99.09022092819214,\n",
      "  \"train_mem\": 1461.655552,\n",
      "  \"test_acc\": 0.967,\n",
      "  \"test_time\": 0.4543461799621582\n",
      "}\n"
     ]
    }
   ],
   "source": [
    "result = {\n",
    "    \"precision\": precision,\n",
    "    \"epoch_loss\": epoch_losses,\n",
    "    \"epoch_acc\": epoch_accuracies,\n",
    "    \"train_time\": train_time,\n",
    "    \"train_mem\": train_mem,\n",
    "    \"test_acc\": test_acc,\n",
    "    \"test_time\": test_time\n",
    "}\n",
    "\n",
    "with open(\"results_mixed.json\", \"w\") as f:\n",
    "    json.dump(result, f, indent=2)\n",
    "\n",
    "print(json.dumps(result, indent=2))"
   ]
  }
 ],
 "metadata": {
  "kernelspec": {
   "display_name": "Python 3",
   "language": "python",
   "name": "python3"
  },
  "language_info": {
   "codemirror_mode": {
    "name": "ipython",
    "version": 3
   },
   "file_extension": ".py",
   "mimetype": "text/x-python",
   "name": "python",
   "nbconvert_exporter": "python",
   "pygments_lexer": "ipython3",
   "version": "3.10.12"
  }
 },
 "nbformat": 4,
 "nbformat_minor": 5
}
